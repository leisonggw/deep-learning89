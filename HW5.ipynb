{
 "cells": [
  {
   "cell_type": "code",
   "execution_count": 2,
   "metadata": {},
   "outputs": [
    {
     "name": "stdout",
     "output_type": "stream",
     "text": [
      "Collecting pymagnitude\n",
      "  Downloading pymagnitude-0.1.143.tar.gz (5.4 MB)\n",
      "Requirement already satisfied (use --upgrade to upgrade): pymagnitude from https://files.pythonhosted.org/packages/69/40/ec05f0630f6dd56eb323dee5bc70a52e4f21247185d8662d3d08267cc6c7/pymagnitude-0.1.143.tar.gz#sha256=c97f552ea28d733aeac7058821ae876fe6b2f42392786bc4dd231ef73b3c8fe2 in c:\\users\\ls\\miniconda\\envs\\tensorflow\\lib\\site-packages\\pymagnitude-0.1.143-py3.7-win-amd64.egg\n",
      "Building wheels for collected packages: pymagnitude\n",
      "  Building wheel for pymagnitude (setup.py): started\n",
      "  Building wheel for pymagnitude (setup.py): finished with status 'done'\n",
      "  Created wheel for pymagnitude: filename=pymagnitude-0.1.143-cp37-cp37m-win_amd64.whl size=85332671 sha256=16bdf077e593e3bb095f8b72bb1e9eed4a542ccce85f017c4d29d2b04482d763\n",
      "  Stored in directory: c:\\users\\ls\\appdata\\local\\pip\\cache\\wheels\\0e\\96\\d6\\b765a1ce34517c193d764b634b1ff7db5e1dcfea2520f17273\n",
      "Successfully built pymagnitude\n",
      "Note: you may need to restart the kernel to use updated packages.\n"
     ]
    }
   ],
   "source": [
    "pip install pymagnitude "
   ]
  },
  {
   "cell_type": "code",
   "execution_count": 4,
   "metadata": {},
   "outputs": [],
   "source": [
    "from pymagnitude import Magnitude \n",
    "from pymagnitude import *\n",
    "vectors = Magnitude(\"GoogleNews-vectors-negative300.magnitude\")"
   ]
  },
  {
   "cell_type": "code",
   "execution_count": 3,
   "metadata": {},
   "outputs": [
    {
     "data": {
      "text/plain": [
       "300"
      ]
     },
     "execution_count": 3,
     "metadata": {},
     "output_type": "execute_result"
    }
   ],
   "source": [
    "vectors.distance(\"cat\",\"dog\")\n",
    "vectors.dim"
   ]
  },
  {
   "cell_type": "code",
   "execution_count": 4,
   "metadata": {},
   "outputs": [
    {
     "data": {
      "text/plain": [
       "0.691454"
      ]
     },
     "execution_count": 4,
     "metadata": {},
     "output_type": "execute_result"
    }
   ],
   "source": [
    "vectors.distance(\"cat\",\"dog\")"
   ]
  },
  {
   "cell_type": "code",
   "execution_count": 5,
   "metadata": {},
   "outputs": [
    {
     "data": {
      "text/plain": [
       "[('picnic', 0.9999998),\n",
       " ('picnics', 0.7400875),\n",
       " ('picnic_lunch', 0.72137403),\n",
       " ('Picnic', 0.70053387),\n",
       " ('potluck_picnic', 0.66832733),\n",
       " ('picnic_supper', 0.65189123),\n",
       " ('picnicking', 0.63550216),\n",
       " ('cookout', 0.63243484),\n",
       " ('Hiking_biking_camping', 0.625607),\n",
       " ('barbeque', 0.6225628)]"
      ]
     },
     "execution_count": 5,
     "metadata": {},
     "output_type": "execute_result"
    }
   ],
   "source": [
    "vectors.most_similar(vectors.query(\"picnic\"), topn = 10)"
   ]
  },
  {
   "cell_type": "code",
   "execution_count": 7,
   "metadata": {},
   "outputs": [
    {
     "data": {
      "text/plain": [
       "'tissue'"
      ]
     },
     "execution_count": 7,
     "metadata": {},
     "output_type": "execute_result"
    }
   ],
   "source": [
    "vectors.doesnt_match([\"tissue\", \"papyrus\",\"manila\", \"newsprint\", \"parchment\", \"gazette\"])"
   ]
  },
  {
   "cell_type": "code",
   "execution_count": 8,
   "metadata": {},
   "outputs": [
    {
     "data": {
      "text/plain": [
       "[('queen', 0.7118193),\n",
       " ('monarch', 0.6189675),\n",
       " ('princess', 0.5902431),\n",
       " ('crown_prince', 0.5499462),\n",
       " ('prince', 0.53773224),\n",
       " ('kings', 0.5236845),\n",
       " ('Queen_Consort', 0.5235946),\n",
       " ('queens', 0.51811343),\n",
       " ('sultan', 0.50985944),\n",
       " ('monarchy', 0.50874114)]"
      ]
     },
     "execution_count": 8,
     "metadata": {},
     "output_type": "execute_result"
    }
   ],
   "source": [
    "vectors.most_similar(positive = [\"woman\", \"king\"], negative = [\"man\"])"
   ]
  },
  {
   "cell_type": "code",
   "execution_count": 9,
   "metadata": {},
   "outputs": [
    {
     "data": {
      "text/plain": [
       "[('forearm', 0.48294652),\n",
       " ('shin', 0.47376174),\n",
       " ('elbow', 0.46796894),\n",
       " ('metacarpal_bone', 0.46781474),\n",
       " ('metacarpal_bones', 0.46605825),\n",
       " ('ankle', 0.46434426),\n",
       " ('shoulder', 0.46183363),\n",
       " ('thigh', 0.45393687),\n",
       " ('knee', 0.4455707),\n",
       " ('ulna_bone', 0.44234914)]"
      ]
     },
     "execution_count": 9,
     "metadata": {},
     "output_type": "execute_result"
    }
   ],
   "source": [
    "vectors.most_similar(positive = [\"throw\", \"leg\"], negative = [\"jump\"])"
   ]
  },
  {
   "cell_type": "code",
   "execution_count": 10,
   "metadata": {},
   "outputs": [
    {
     "data": {
      "text/plain": [
       "[('forearm', 0.87659895),\n",
       " ('metacarpal_bone', 0.8747273),\n",
       " ('elbow', 0.86924946),\n",
       " ('metacarpal_bones', 0.8680102),\n",
       " ('knuckle', 0.86753845),\n",
       " ('shoulder', 0.86726993),\n",
       " ('shin', 0.86424685),\n",
       " ('nonthrowing_shoulder', 0.86377436),\n",
       " ('dislocating_finger', 0.857464),\n",
       " ('pinkie', 0.851935)]"
      ]
     },
     "execution_count": 10,
     "metadata": {},
     "output_type": "execute_result"
    }
   ],
   "source": [
    "vectors.most_similar_cosmul(positive = [\"throw\", \"leg\"], negative = [\"jump\"])"
   ]
  },
  {
   "cell_type": "code",
   "execution_count": 5,
   "metadata": {},
   "outputs": [],
   "source": [
    "import pandas as pd\n",
    "import numpy as np"
   ]
  },
  {
   "cell_type": "code",
   "execution_count": 6,
   "metadata": {},
   "outputs": [
    {
     "data": {
      "text/html": [
       "<div>\n",
       "<style scoped>\n",
       "    .dataframe tbody tr th:only-of-type {\n",
       "        vertical-align: middle;\n",
       "    }\n",
       "\n",
       "    .dataframe tbody tr th {\n",
       "        vertical-align: top;\n",
       "    }\n",
       "\n",
       "    .dataframe thead th {\n",
       "        text-align: right;\n",
       "    }\n",
       "</style>\n",
       "<table border=\"1\" class=\"dataframe\">\n",
       "  <thead>\n",
       "    <tr style=\"text-align: right;\">\n",
       "      <th></th>\n",
       "      <th>0</th>\n",
       "      <th>1</th>\n",
       "      <th>2</th>\n",
       "      <th>3</th>\n",
       "      <th>4</th>\n",
       "      <th>5</th>\n",
       "      <th>6</th>\n",
       "      <th>7</th>\n",
       "      <th>8</th>\n",
       "      <th>9</th>\n",
       "      <th>...</th>\n",
       "      <th>290</th>\n",
       "      <th>291</th>\n",
       "      <th>292</th>\n",
       "      <th>293</th>\n",
       "      <th>294</th>\n",
       "      <th>295</th>\n",
       "      <th>296</th>\n",
       "      <th>297</th>\n",
       "      <th>298</th>\n",
       "      <th>299</th>\n",
       "    </tr>\n",
       "  </thead>\n",
       "  <tbody>\n",
       "    <tr>\n",
       "      <th>0</th>\n",
       "      <td>-0.068577</td>\n",
       "      <td>0.075575</td>\n",
       "      <td>-0.022952</td>\n",
       "      <td>-0.033029</td>\n",
       "      <td>-0.099647</td>\n",
       "      <td>0.078934</td>\n",
       "      <td>-0.011336</td>\n",
       "      <td>-0.002484</td>\n",
       "      <td>0.052622</td>\n",
       "      <td>-0.076694</td>\n",
       "      <td>...</td>\n",
       "      <td>-0.055701</td>\n",
       "      <td>-0.028550</td>\n",
       "      <td>-0.039467</td>\n",
       "      <td>-0.019313</td>\n",
       "      <td>0.048424</td>\n",
       "      <td>0.083972</td>\n",
       "      <td>-0.035688</td>\n",
       "      <td>-0.017914</td>\n",
       "      <td>0.027851</td>\n",
       "      <td>0.011126</td>\n",
       "    </tr>\n",
       "    <tr>\n",
       "      <th>1</th>\n",
       "      <td>0.133074</td>\n",
       "      <td>0.083647</td>\n",
       "      <td>-0.072240</td>\n",
       "      <td>0.078894</td>\n",
       "      <td>0.008258</td>\n",
       "      <td>0.016991</td>\n",
       "      <td>0.008198</td>\n",
       "      <td>-0.065111</td>\n",
       "      <td>0.010931</td>\n",
       "      <td>0.078894</td>\n",
       "      <td>...</td>\n",
       "      <td>-0.014377</td>\n",
       "      <td>0.012476</td>\n",
       "      <td>-0.091251</td>\n",
       "      <td>-0.091251</td>\n",
       "      <td>0.047764</td>\n",
       "      <td>0.098380</td>\n",
       "      <td>-0.022813</td>\n",
       "      <td>0.034219</td>\n",
       "      <td>-0.000609</td>\n",
       "      <td>0.038497</td>\n",
       "    </tr>\n",
       "    <tr>\n",
       "      <th>2</th>\n",
       "      <td>-0.063384</td>\n",
       "      <td>0.017546</td>\n",
       "      <td>-0.051016</td>\n",
       "      <td>0.086573</td>\n",
       "      <td>-0.000570</td>\n",
       "      <td>-0.062766</td>\n",
       "      <td>-0.015537</td>\n",
       "      <td>0.026745</td>\n",
       "      <td>-0.029064</td>\n",
       "      <td>0.096467</td>\n",
       "      <td>...</td>\n",
       "      <td>0.005565</td>\n",
       "      <td>-0.108216</td>\n",
       "      <td>0.019556</td>\n",
       "      <td>0.016542</td>\n",
       "      <td>0.023653</td>\n",
       "      <td>-0.082863</td>\n",
       "      <td>-0.155213</td>\n",
       "      <td>-0.084718</td>\n",
       "      <td>-0.076679</td>\n",
       "      <td>0.135425</td>\n",
       "    </tr>\n",
       "    <tr>\n",
       "      <th>3</th>\n",
       "      <td>0.030489</td>\n",
       "      <td>0.031632</td>\n",
       "      <td>-0.162605</td>\n",
       "      <td>0.074697</td>\n",
       "      <td>0.047765</td>\n",
       "      <td>-0.024391</td>\n",
       "      <td>0.028710</td>\n",
       "      <td>0.051576</td>\n",
       "      <td>0.079270</td>\n",
       "      <td>0.015625</td>\n",
       "      <td>...</td>\n",
       "      <td>-0.057166</td>\n",
       "      <td>-0.207322</td>\n",
       "      <td>0.007178</td>\n",
       "      <td>0.043192</td>\n",
       "      <td>0.044462</td>\n",
       "      <td>-0.037602</td>\n",
       "      <td>0.076221</td>\n",
       "      <td>0.074697</td>\n",
       "      <td>0.016896</td>\n",
       "      <td>-0.015308</td>\n",
       "    </tr>\n",
       "    <tr>\n",
       "      <th>4</th>\n",
       "      <td>0.059990</td>\n",
       "      <td>0.044931</td>\n",
       "      <td>-0.029625</td>\n",
       "      <td>0.079000</td>\n",
       "      <td>0.050362</td>\n",
       "      <td>-0.030612</td>\n",
       "      <td>0.023947</td>\n",
       "      <td>-0.002484</td>\n",
       "      <td>-0.040240</td>\n",
       "      <td>0.062212</td>\n",
       "      <td>...</td>\n",
       "      <td>0.044190</td>\n",
       "      <td>-0.123931</td>\n",
       "      <td>-0.051844</td>\n",
       "      <td>-0.027280</td>\n",
       "      <td>0.055794</td>\n",
       "      <td>0.029872</td>\n",
       "      <td>-0.052337</td>\n",
       "      <td>-0.009998</td>\n",
       "      <td>-0.015368</td>\n",
       "      <td>0.012529</td>\n",
       "    </tr>\n",
       "  </tbody>\n",
       "</table>\n",
       "<p>5 rows × 300 columns</p>\n",
       "</div>"
      ],
      "text/plain": [
       "        0         1         2         3         4         5         6    \\\n",
       "0 -0.068577  0.075575 -0.022952 -0.033029 -0.099647  0.078934 -0.011336   \n",
       "1  0.133074  0.083647 -0.072240  0.078894  0.008258  0.016991  0.008198   \n",
       "2 -0.063384  0.017546 -0.051016  0.086573 -0.000570 -0.062766 -0.015537   \n",
       "3  0.030489  0.031632 -0.162605  0.074697  0.047765 -0.024391  0.028710   \n",
       "4  0.059990  0.044931 -0.029625  0.079000  0.050362 -0.030612  0.023947   \n",
       "\n",
       "        7         8         9    ...       290       291       292       293  \\\n",
       "0 -0.002484  0.052622 -0.076694  ... -0.055701 -0.028550 -0.039467 -0.019313   \n",
       "1 -0.065111  0.010931  0.078894  ... -0.014377  0.012476 -0.091251 -0.091251   \n",
       "2  0.026745 -0.029064  0.096467  ...  0.005565 -0.108216  0.019556  0.016542   \n",
       "3  0.051576  0.079270  0.015625  ... -0.057166 -0.207322  0.007178  0.043192   \n",
       "4 -0.002484 -0.040240  0.062212  ...  0.044190 -0.123931 -0.051844 -0.027280   \n",
       "\n",
       "        294       295       296       297       298       299  \n",
       "0  0.048424  0.083972 -0.035688 -0.017914  0.027851  0.011126  \n",
       "1  0.047764  0.098380 -0.022813  0.034219 -0.000609  0.038497  \n",
       "2  0.023653 -0.082863 -0.155213 -0.084718 -0.076679  0.135425  \n",
       "3  0.044462 -0.037602  0.076221  0.074697  0.016896 -0.015308  \n",
       "4  0.055794  0.029872 -0.052337 -0.009998 -0.015368  0.012529  \n",
       "\n",
       "[5 rows x 300 columns]"
      ]
     },
     "execution_count": 6,
     "metadata": {},
     "output_type": "execute_result"
    }
   ],
   "source": [
    "df=pd.DataFrame(X)\n",
    "df.shape\n",
    "df.head()"
   ]
  },
  {
   "cell_type": "code",
   "execution_count": 1,
   "metadata": {},
   "outputs": [
    {
     "ename": "NameError",
     "evalue": "name 'df' is not defined",
     "output_type": "error",
     "traceback": [
      "\u001b[1;31m---------------------------------------------------------------------------\u001b[0m",
      "\u001b[1;31mNameError\u001b[0m                                 Traceback (most recent call last)",
      "\u001b[1;32m<ipython-input-1-8976706f9912>\u001b[0m in \u001b[0;36m<module>\u001b[1;34m\u001b[0m\n\u001b[1;32m----> 1\u001b[1;33m \u001b[0mX_corr\u001b[0m\u001b[1;33m=\u001b[0m\u001b[0mdf\u001b[0m\u001b[1;33m.\u001b[0m\u001b[0mcorr\u001b[0m\u001b[1;33m(\u001b[0m\u001b[1;33m)\u001b[0m\u001b[1;33m\u001b[0m\u001b[1;33m\u001b[0m\u001b[0m\n\u001b[0m\u001b[0;32m      2\u001b[0m \u001b[1;33m\u001b[0m\u001b[0m\n\u001b[0;32m      3\u001b[0m \u001b[1;31m#Computing eigen values and eigen vectors\u001b[0m\u001b[1;33m\u001b[0m\u001b[1;33m\u001b[0m\u001b[1;33m\u001b[0m\u001b[0m\n\u001b[0;32m      4\u001b[0m \u001b[0mvalues\u001b[0m\u001b[1;33m,\u001b[0m\u001b[0mvectors\u001b[0m\u001b[1;33m=\u001b[0m\u001b[0mnp\u001b[0m\u001b[1;33m.\u001b[0m\u001b[0mlinalg\u001b[0m\u001b[1;33m.\u001b[0m\u001b[0meig\u001b[0m\u001b[1;33m(\u001b[0m\u001b[0mX_corr\u001b[0m\u001b[1;33m)\u001b[0m\u001b[1;33m\u001b[0m\u001b[1;33m\u001b[0m\u001b[0m\n\u001b[0;32m      5\u001b[0m \u001b[1;33m\u001b[0m\u001b[0m\n",
      "\u001b[1;31mNameError\u001b[0m: name 'df' is not defined"
     ]
    }
   ],
   "source": [
    "X_corr=df.corr()\n",
    "\n",
    "#Computing eigen values and eigen vectors\n",
    "values,vectors=np.linalg.eig(X_corr)\n",
    "\n",
    "#Sorting the eigen vectors coresponding to eigen values in descending order\n",
    "args = (-values).argsort()\n",
    "values = vectors[args]\n",
    "vectors = vectors[:, args]\n",
    "\n",
    "#Taking first 2 components which explain maximum variance for projecting\n",
    "new_vectors=vectors[:,:2]\n",
    "\n",
    "#Projecting it onto new dimesion with 2 axis\n",
    "neww_X=np.dot(X,new_vectors)"
   ]
  },
  {
   "cell_type": "code",
   "execution_count": 1,
   "metadata": {},
   "outputs": [
    {
     "ename": "NameError",
     "evalue": "name 'neww_X' is not defined",
     "output_type": "error",
     "traceback": [
      "\u001b[1;31m---------------------------------------------------------------------------\u001b[0m",
      "\u001b[1;31mNameError\u001b[0m                                 Traceback (most recent call last)",
      "\u001b[1;32m<ipython-input-1-b56a84c25a61>\u001b[0m in \u001b[0;36m<module>\u001b[1;34m\u001b[0m\n\u001b[0;32m      1\u001b[0m \u001b[1;32mimport\u001b[0m \u001b[0mmatplotlib\u001b[0m\u001b[1;33m.\u001b[0m\u001b[0mpyplot\u001b[0m \u001b[1;32mas\u001b[0m \u001b[0mplt\u001b[0m\u001b[1;33m\u001b[0m\u001b[1;33m\u001b[0m\u001b[0m\n\u001b[0;32m      2\u001b[0m \u001b[0mplt\u001b[0m\u001b[1;33m.\u001b[0m\u001b[0mfigure\u001b[0m\u001b[1;33m(\u001b[0m\u001b[0mfigsize\u001b[0m\u001b[1;33m=\u001b[0m\u001b[1;33m(\u001b[0m\u001b[1;36m13\u001b[0m\u001b[1;33m,\u001b[0m\u001b[1;36m7\u001b[0m\u001b[1;33m)\u001b[0m\u001b[1;33m)\u001b[0m\u001b[1;33m\u001b[0m\u001b[1;33m\u001b[0m\u001b[0m\n\u001b[1;32m----> 3\u001b[1;33m \u001b[0mplt\u001b[0m\u001b[1;33m.\u001b[0m\u001b[0mscatter\u001b[0m\u001b[1;33m(\u001b[0m\u001b[0mneww_X\u001b[0m\u001b[1;33m[\u001b[0m\u001b[1;33m:\u001b[0m\u001b[1;33m,\u001b[0m\u001b[1;36m0\u001b[0m\u001b[1;33m]\u001b[0m\u001b[1;33m,\u001b[0m\u001b[0mneww_X\u001b[0m\u001b[1;33m[\u001b[0m\u001b[1;33m:\u001b[0m\u001b[1;33m,\u001b[0m\u001b[1;36m1\u001b[0m\u001b[1;33m]\u001b[0m\u001b[1;33m,\u001b[0m\u001b[0mlinewidths\u001b[0m\u001b[1;33m=\u001b[0m\u001b[1;36m10\u001b[0m\u001b[1;33m,\u001b[0m\u001b[0mcolor\u001b[0m\u001b[1;33m=\u001b[0m\u001b[1;34m'blue'\u001b[0m\u001b[1;33m)\u001b[0m\u001b[1;33m\u001b[0m\u001b[1;33m\u001b[0m\u001b[0m\n\u001b[0m\u001b[0;32m      4\u001b[0m \u001b[0mplt\u001b[0m\u001b[1;33m.\u001b[0m\u001b[0mxlabel\u001b[0m\u001b[1;33m(\u001b[0m\u001b[1;34m\"PC1\"\u001b[0m\u001b[1;33m,\u001b[0m\u001b[0msize\u001b[0m\u001b[1;33m=\u001b[0m\u001b[1;36m15\u001b[0m\u001b[1;33m)\u001b[0m\u001b[1;33m\u001b[0m\u001b[1;33m\u001b[0m\u001b[0m\n\u001b[0;32m      5\u001b[0m \u001b[0mplt\u001b[0m\u001b[1;33m.\u001b[0m\u001b[0mylabel\u001b[0m\u001b[1;33m(\u001b[0m\u001b[1;34m\"PC2\"\u001b[0m\u001b[1;33m,\u001b[0m\u001b[0msize\u001b[0m\u001b[1;33m=\u001b[0m\u001b[1;36m15\u001b[0m\u001b[1;33m)\u001b[0m\u001b[1;33m\u001b[0m\u001b[1;33m\u001b[0m\u001b[0m\n",
      "\u001b[1;31mNameError\u001b[0m: name 'neww_X' is not defined"
     ]
    },
    {
     "data": {
      "text/plain": [
       "<Figure size 936x504 with 0 Axes>"
      ]
     },
     "metadata": {},
     "output_type": "display_data"
    }
   ],
   "source": [
    "import matplotlib.pyplot as plt\n",
    "plt.figure(figsize=(13,7))\n",
    "plt.scatter(neww_X[:,0],neww_X[:,1],linewidths=10,color='blue')\n",
    "plt.xlabel(\"PC1\",size=15)\n",
    "plt.ylabel(\"PC2\",size=15)\n",
    "plt.title(\"Word Embedding Space\",size=20)\n",
    "vocab=[\"tissue\", \"papyrus\",\"manila\", \"newsprint\", \"parchment\", \"gazette\"]\n",
    "for i, word in enumerate(vocab):\n",
    "  plt.annotate(word,xy=(neww_X[i,0],neww_X[i,1]))"
   ]
  },
  {
   "cell_type": "code",
   "execution_count": null,
   "metadata": {},
   "outputs": [],
   "source": []
  }
 ],
 "metadata": {
  "kernelspec": {
   "display_name": "Python 3.7 (tensorflow)",
   "language": "python",
   "name": "tensorflow"
  },
  "language_info": {
   "codemirror_mode": {
    "name": "ipython",
    "version": 3
   },
   "file_extension": ".py",
   "mimetype": "text/x-python",
   "name": "python",
   "nbconvert_exporter": "python",
   "pygments_lexer": "ipython3",
   "version": "3.7.9"
  }
 },
 "nbformat": 4,
 "nbformat_minor": 4
}
